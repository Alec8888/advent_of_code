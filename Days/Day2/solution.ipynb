{
 "cells": [
  {
   "cell_type": "code",
   "execution_count": 7,
   "metadata": {},
   "outputs": [
    {
     "data": {
      "text/plain": [
       "0"
      ]
     },
     "execution_count": 7,
     "metadata": {},
     "output_type": "execute_result"
    }
   ],
   "source": [
    "# one report per line\n",
    "# each report is a list of levels separated by spaces\n",
    "# Report safety relies on two constraints\n",
    "# 1. levels within a report must increase or decrease\n",
    "# 2. adjacent levels diff must be >= 1 and <= 3\n",
    "# return number of safe reports\n",
    "\n",
    "safe_count: int = 0\n",
    "with open(\"input\") as file:\n",
    "\n",
    "    for line in file:\n",
    "        report = line.split()\n",
    "\n",
    "        # convert from str to int\n",
    "        report = [int(level) for level in line.split()]\n",
    "\n",
    "        unsafe = False\n",
    "        decreasing: bool = False\n",
    "        increasing: bool = False\n",
    "        prev_level = None\n",
    "        for level in report:\n",
    "            if prev_level == None:\n",
    "                prev_level = level\n",
    "                if prev_level == level:\n",
    "                    unsafe = True\n",
    "                continue\n",
    "\n",
    "            # Acend or Decend not set yet\n",
    "            if not (decreasing and increasing):\n",
    "                if prev_level < level:\n",
    "                    increasing = True\n",
    "                else: # already checked equality\n",
    "                    decreasing = True\n",
    "                continue\n",
    "\n",
    "            # process list\n",
    "            if decreasing and (prev_level < level):\n",
    "                unsafe = True\n",
    "            if increasing and (prev_level > level):\n",
    "                unsafe = True\n",
    "            level_diff = abs(prev_level - level)\n",
    "            if (level_diff < 1) or (level_diff > 3):\n",
    "                unsafe = True\n",
    "\n",
    "        if not unsafe:\n",
    "            safe_count += 1\n",
    "\n",
    "safe_count\n",
    "\n",
    "\n"
   ]
  },
  {
   "cell_type": "code",
   "execution_count": null,
   "metadata": {},
   "outputs": [],
   "source": []
  }
 ],
 "metadata": {
  "kernelspec": {
   "display_name": "Python 3",
   "language": "python",
   "name": "python3"
  },
  "language_info": {
   "codemirror_mode": {
    "name": "ipython",
    "version": 3
   },
   "file_extension": ".py",
   "mimetype": "text/x-python",
   "name": "python",
   "nbconvert_exporter": "python",
   "pygments_lexer": "ipython3",
   "version": "3.11.1"
  }
 },
 "nbformat": 4,
 "nbformat_minor": 2
}
